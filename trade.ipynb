{
 "cells": [
  {
   "cell_type": "code",
   "execution_count": 1,
   "metadata": {},
   "outputs": [
    {
     "name": "stderr",
     "output_type": "stream",
     "text": [
      "Using TensorFlow backend.\n"
     ]
    },
    {
     "name": "stdout",
     "output_type": "stream",
     "text": [
      "Testing set size: 430\n",
      "Model guessed up or down movement correctly 0.6116279069767442%\n",
      "mae: 0.02138560087627802\n",
      "mse: 0.001098144583812084\n",
      "R^2: 0.28997025536284504\n"
     ]
    }
   ],
   "source": [
    "import pandas as pd\n",
    "import numpy as np\n",
    "from binance.client import Client\n",
    "import yfinance as yf\n",
    "import pickle\n",
    "import requests\n",
    "from requests.auth import HTTPBasicAuth\n",
    "import hashlib\n",
    "from urllib.parse import urlencode\n",
    "import hmac\n",
    "import math\n",
    "\n",
    "%run helper_functions.ipynb\n",
    "%run train.ipynb"
   ]
  },
  {
   "cell_type": "markdown",
   "metadata": {},
   "source": [
    "# Get data\n",
    "Get latest data and features to predict next days price"
   ]
  },
  {
   "cell_type": "code",
   "execution_count": 2,
   "metadata": {},
   "outputs": [],
   "source": [
    "hist = get_yfinance_data('BTC-USD')[['Close']].rename(columns = {'Close': 'Btc Close'}) # get btc hist\n",
    "hist['Btc Returns'] = hist['Btc Close'].pct_change() # get btc returns\n",
    "\n",
    "# Lagged Moving average - Btc price\n",
    "windows = [3, 5, 7, 10, 20, 50, 100, 200] # set moving average windows\n",
    "for window in windows:\n",
    "    hist['Btc Close - ' +str(window) + \n",
    "         'd Avg'] = hist['Btc Close'] - moving_average(hist['Btc Close'], window=window, lag=0)"
   ]
  },
  {
   "cell_type": "markdown",
   "metadata": {},
   "source": [
    "# Predict and Trade\n",
    "Connect to API <br>\n",
    "Make trade based on prediction. <br>\n",
    "Scenario 1: Positive return pred. If in bitcoin, stay. Else out of bitcoin, buy. <br>\n",
    "Scenario 2: Negative return pred. If in bitcoin, sell. Else out of bitcoin, stay. <br>"
   ]
  },
  {
   "cell_type": "markdown",
   "metadata": {},
   "source": [
    "### Load Model and predict"
   ]
  },
  {
   "cell_type": "code",
   "execution_count": 3,
   "metadata": {},
   "outputs": [],
   "source": [
    "loaded_model = pickle.load(open('model_weights.sav', 'rb')) # load model\n",
    "pred = loaded_model.predict(hist[hist.columns[2:]].tail(1)) # make prediction on latest data"
   ]
  },
  {
   "cell_type": "markdown",
   "metadata": {},
   "source": [
    "### Set API variables"
   ]
  },
  {
   "cell_type": "code",
   "execution_count": 4,
   "metadata": {
    "scrolled": true
   },
   "outputs": [],
   "source": [
    "api_key = {'X-MBX-APIKEY' : 'Bc4rxmrzUb5r9Q3Mmjw18SdtG6n67Dgj757AKgmQVUOmtY5K0pVHr6q8XSFyNPA2'} # Set API key\n",
    "sec_key = 'bjZYr2spX2LzeJNfzgoaSpLtYnixhM9ko1ik9N6WZ3Ey2JzC0li8OlRwegImEUQ0' # Set API secret\n",
    "account_endpoint = 'https://api.binance.com/api/v3/account'  # account balances endpoint\n",
    "price_endpoint = 'https://api.binance.com/api/v3/ticker/price' # get current price\n",
    "order_endpoint = 'https://api.binance.com/api/v3/order'  # orders endpoint"
   ]
  },
  {
   "cell_type": "markdown",
   "metadata": {},
   "source": [
    "### Make Trade\n",
    "Get balances and prices and then trade based on this balances and prices."
   ]
  },
  {
   "cell_type": "code",
   "execution_count": 15,
   "metadata": {},
   "outputs": [],
   "source": [
    "# get btc balances from account and current prices\n",
    "balances = requests.get(account_endpoint, headers=api_key, \n",
    "                        params=binance_params(secret=sec_key, timestamp=binance_time(), recvWindow=6000)).json()   \n",
    "btc_balance = float([balance for balance in balances['balances'] if balance['asset'] == 'BTC'][0]['free'])\n",
    "usdt_balance = float([balance for balance in balances['balances'] if balance['asset'] == 'USDT'][0]['free'])\n",
    "btc_price = float(requests.get(price_endpoint, params={'symbol': 'BTCUSDT'}).json()['price'])"
   ]
  },
  {
   "cell_type": "code",
   "execution_count": 16,
   "metadata": {},
   "outputs": [
    {
     "name": "stdout",
     "output_type": "stream",
     "text": [
      "BTC to decrease but position already in USD\n"
     ]
    }
   ],
   "source": [
    "# make order in account depending on balance and price pred\n",
    "# buy BTC order with USDT\n",
    "if pred[0] > 0:\n",
    "    if round(btc_balance, 4) == 0:\n",
    "        order = requests.post(order_endpoint, headers = api_key, \n",
    "                              params=binance_params(secret=sec_key, symbol='BTCUSDT', side='BUY', type='MARKET',\n",
    "                                                    timestamp=binance_time(), \n",
    "                                                    quantity=truncate(usdt_balance/btc_price, 6)))\n",
    "    else:\n",
    "        print('BTC to increase in price but position already in BTC')\n",
    "        \n",
    "# Sell BTC into USDT\n",
    "if pred[0] < 0:\n",
    "    if round(btc_balance, 4) > 0:\n",
    "        order = requests.post(order_endpoint, headers = api_key, \n",
    "                              params=binance_params(secret=sec_key, symbol='BTCUSDT', side='SELL', type='MARKET',\n",
    "                                                    timestamp=binance_time(), \n",
    "                                                    quantity=truncate(btc_balance, 6)))\n",
    "        \n",
    "    else:\n",
    "        print('BTC to decrease but position already in USD')"
   ]
  }
 ],
 "metadata": {
  "kernelspec": {
   "display_name": "Python 3",
   "language": "python",
   "name": "python3"
  },
  "language_info": {
   "codemirror_mode": {
    "name": "ipython",
    "version": 3
   },
   "file_extension": ".py",
   "mimetype": "text/x-python",
   "name": "python",
   "nbconvert_exporter": "python",
   "pygments_lexer": "ipython3",
   "version": "3.7.7"
  }
 },
 "nbformat": 4,
 "nbformat_minor": 4
}
