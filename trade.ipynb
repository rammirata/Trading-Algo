{
 "cells": [
  {
   "cell_type": "code",
   "execution_count": 15,
   "metadata": {},
   "outputs": [
    {
     "name": "stdout",
     "output_type": "stream",
     "text": [
      "Testing set size: 429\n",
      "Model guessed up or down movement correctly 0.6107226107226107%\n",
      "mae: 0.02008951424594497\n",
      "mse: 0.0009766826401910757\n",
      "R^2: 0.3159961409202995\n"
     ]
    }
   ],
   "source": [
    "import pandas as pd\n",
    "import numpy as np\n",
    "from binance.client import Client\n",
    "import yfinance as yf\n",
    "import pickle\n",
    "import requests\n",
    "from requests.auth import HTTPBasicAuth\n",
    "import hashlib\n",
    "from urllib.parse import urlencode\n",
    "import hmac\n",
    "\n",
    "%run helper_functions.ipynb\n",
    "%run train.ipynb"
   ]
  },
  {
   "cell_type": "markdown",
   "metadata": {},
   "source": [
    "# Get data\n",
    "Get latest data and features to predict next days price"
   ]
  },
  {
   "cell_type": "code",
   "execution_count": 9,
   "metadata": {},
   "outputs": [],
   "source": [
    "hist = get_yfinance_data('BTC-USD')[['Close']].rename(columns = {'Close': 'Btc Close'}) # get btc hist\n",
    "hist['Btc Returns'] = hist['Btc Close'].pct_change() # get btc returns\n",
    "\n",
    "# Lagged Moving average - Btc price\n",
    "windows = [3, 5, 7, 10, 20, 50, 100, 200] # set moving average windows\n",
    "for window in windows:\n",
    "    hist['Btc Close - ' +str(window) + \n",
    "         'd Avg'] = hist['Btc Close'] - moving_average(hist['Btc Close'], window=window, lag=0)"
   ]
  },
  {
   "cell_type": "markdown",
   "metadata": {},
   "source": [
    "# Predict and Trade\n",
    "Connect to API <br>\n",
    "Make trade based on prediction. <br>\n",
    "Scenario 1: Positive return pred. If in bitcoin, stay. Else out of bitcoin, buy. <br>\n",
    "Scenario 2: Negative return pred. If in bitcoin, sell. Else out of bitcoin, stay. <br>"
   ]
  },
  {
   "cell_type": "markdown",
   "metadata": {},
   "source": [
    "### Load Model and predict"
   ]
  },
  {
   "cell_type": "code",
   "execution_count": 10,
   "metadata": {},
   "outputs": [],
   "source": [
    "loaded_model = pickle.load(open('model_weights.sav', 'rb')) # load model\n",
    "pred = loaded_model.predict(hist[hist.columns[2:]].tail(1)) # make prediction on latest data"
   ]
  },
  {
   "cell_type": "code",
   "execution_count": 12,
   "metadata": {},
   "outputs": [
    {
     "data": {
      "text/plain": [
       "array([0.026093])"
      ]
     },
     "execution_count": 12,
     "metadata": {},
     "output_type": "execute_result"
    }
   ],
   "source": [
    "pred"
   ]
  },
  {
   "cell_type": "markdown",
   "metadata": {},
   "source": [
    "### Connect API and get balance"
   ]
  },
  {
   "cell_type": "code",
   "execution_count": 13,
   "metadata": {
    "scrolled": false
   },
   "outputs": [],
   "source": [
    "api_key = {'X-MBX-APIKEY' : 'UELhfQrZqnrZnYUJt8916bK4CMCQfv8dCd7lPFYaZiJe0jTuHT3LuZlJGwQIrpza'} # Set API key\n",
    "sec_key = 'Id0twv9OWI1v4VlgO6abbXt0t45TWGbYaDUxgRRSopk2eLMKTysl5vPaktvtyJVt' # Set API secret\n",
    "server_time = get_binance_time() # get binance server time\n",
    "\n",
    "params = binance_params(secret = sec_key, timestamp=server_time, recvWindow=6000)\n",
    "balances = requests.get('https://api.binance.com/api/v3/account', headers=api_key, params=params).json()   \n",
    "\n",
    "btc_balance = float([balance for balance in balances['balances'] if balance['asset'] == 'BTC'][0]['free'])"
   ]
  },
  {
   "cell_type": "markdown",
   "metadata": {},
   "source": [
    "### Make Trade"
   ]
  },
  {
   "cell_type": "code",
   "execution_count": null,
   "metadata": {},
   "outputs": [],
   "source": [
    "if pred > 0:\n",
    "    if btc_balance == 0:\n",
    "        # buy\n",
    "\n",
    "if pred < 0:\n",
    "    if btc_balance > 0:\n",
    "        # sell"
   ]
  }
 ],
 "metadata": {
  "kernelspec": {
   "display_name": "Python 3",
   "language": "python",
   "name": "python3"
  },
  "language_info": {
   "codemirror_mode": {
    "name": "ipython",
    "version": 3
   },
   "file_extension": ".py",
   "mimetype": "text/x-python",
   "name": "python",
   "nbconvert_exporter": "python",
   "pygments_lexer": "ipython3",
   "version": "3.7.7"
  }
 },
 "nbformat": 4,
 "nbformat_minor": 4
}
