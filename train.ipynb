{
 "cells": [
  {
   "cell_type": "code",
   "execution_count": 7,
   "metadata": {
    "scrolled": true
   },
   "outputs": [],
   "source": [
    "import warnings\n",
    "warnings.filterwarnings(\"ignore\", category=FutureWarning)  # ignore warnings\n",
    "import os\n",
    "import pandas as pd\n",
    "import yfinance as yf\n",
    "import numpy as np\n",
    "import pickle\n",
    "import errno\n",
    "from sklearn.model_selection import train_test_split\n",
    "from sklearn.linear_model import LinearRegression\n",
    "from keras.models import Sequential\n",
    "from keras.layers import Dense\n",
    "from keras.callbacks import ModelCheckpoint\n",
    "from keras.optimizers import Adam\n",
    "\n",
    "%run helper_functions.ipynb"
   ]
  },
  {
   "cell_type": "markdown",
   "metadata": {},
   "source": [
    "# Get  Data"
   ]
  },
  {
   "cell_type": "markdown",
   "metadata": {},
   "source": [
    "### Historical Data and Relevant Features\n",
    "The data will always be set up as a dataframe where the first column is the price, second is return, and rest are explanatory variables.\n",
    "From data exploration we know that the most relevant features to predict return in BTC price are distance between Moving Average and btc price"
   ]
  },
  {
   "cell_type": "code",
   "execution_count": 8,
   "metadata": {},
   "outputs": [],
   "source": [
    "hist = get_yfinance_data('BTC-USD')[['Close']].rename(columns = {'Close': 'Btc Close'}) # get btc hist\n",
    "hist['Btc Returns'] = hist['Btc Close'].pct_change() # get btc returns\n",
    "\n",
    "# Lagged Moving average - Btc price\n",
    "windows = [3, 5, 7, 10, 20, 50, 100, 200] # set moving average windows\n",
    "for window in windows:\n",
    "    hist['Btc Close - ' + 'Lagged ' +str(window) + \n",
    "         'd Avg'] = hist['Btc Close'] - moving_average(hist['Btc Close'], window=window, lag=1)"
   ]
  },
  {
   "cell_type": "markdown",
   "metadata": {},
   "source": [
    "### Data cleaning and transformation\n",
    "- Remove NA's and INF's\n",
    "- Normalize "
   ]
  },
  {
   "cell_type": "code",
   "execution_count": 9,
   "metadata": {},
   "outputs": [],
   "source": [
    "hist = hist.dropna()"
   ]
  },
  {
   "cell_type": "markdown",
   "metadata": {},
   "source": [
    "# Model"
   ]
  },
  {
   "cell_type": "markdown",
   "metadata": {},
   "source": [
    "### Train/Test split"
   ]
  },
  {
   "cell_type": "code",
   "execution_count": 10,
   "metadata": {
    "scrolled": true
   },
   "outputs": [],
   "source": [
    "x = hist[hist.columns[2:]].values\n",
    "y = hist[hist.columns[1]].values\n",
    "\n",
    "# Warn if there's any data point in training or testing with NA or INF\n",
    "if np.any(np.isnan(x)) and np.any(np.isnan(y)) or not np.all(np.isfinite(x)) and np.all(np.isfinite(y)):\n",
    "    print('Your data has NAs or INFs, could fail with some models')\n",
    "\n",
    "# divide data between training and testing\n",
    "x_train, x_test, y_train, y_test = train_test_split(x, y, test_size=0.20, random_state=42)"
   ]
  },
  {
   "cell_type": "markdown",
   "metadata": {},
   "source": [
    "### Train Model\n",
    "\n",
    "We will train a NN to take full advantage of nonlinear interactions between features"
   ]
  },
  {
   "cell_type": "code",
   "execution_count": 11,
   "metadata": {},
   "outputs": [],
   "source": [
    "model = LinearRegression().fit(x_train, y_train)"
   ]
  },
  {
   "cell_type": "markdown",
   "metadata": {},
   "source": [
    "### Model metrics\n",
    "All model metrics"
   ]
  },
  {
   "cell_type": "code",
   "execution_count": 12,
   "metadata": {
    "scrolled": true
   },
   "outputs": [
    {
     "name": "stdout",
     "output_type": "stream",
     "text": [
      "Testing set size: 429\n",
      "Model guessed up or down movement correctly 0.6107226107226107%\n",
      "mae: 0.02008956663892932\n",
      "mse: 0.0009767436074974122\n",
      "R^2: 0.31595344345533405\n"
     ]
    }
   ],
   "source": [
    "pred = model.predict(x_test) \n",
    "model_metrics(pred, y_test, 0.001)"
   ]
  },
  {
   "cell_type": "code",
   "execution_count": 13,
   "metadata": {},
   "outputs": [],
   "source": [
    "pickle.dump(model, open('model_weights.sav', 'wb')) # save model weights"
   ]
  },
  {
   "cell_type": "code",
   "execution_count": null,
   "metadata": {},
   "outputs": [],
   "source": []
  }
 ],
 "metadata": {
  "kernelspec": {
   "display_name": "Python 3",
   "language": "python",
   "name": "python3"
  },
  "language_info": {
   "codemirror_mode": {
    "name": "ipython",
    "version": 3
   },
   "file_extension": ".py",
   "mimetype": "text/x-python",
   "name": "python",
   "nbconvert_exporter": "python",
   "pygments_lexer": "ipython3",
   "version": "3.7.7"
  }
 },
 "nbformat": 4,
 "nbformat_minor": 4
}
